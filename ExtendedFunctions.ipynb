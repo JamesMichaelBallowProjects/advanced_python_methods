{
 "cells": [
  {
   "cell_type": "code",
   "execution_count": 5,
   "metadata": {},
   "outputs": [
    {
     "name": "stdout",
     "output_type": "stream",
     "text": [
      "Passed 10 to expected variable 'a', and it has type <class 'int'>\n",
      "Passed (40, 60, 30), but they were not expected, and it has type <class 'tuple'>\n",
      "Passed {'argument1': 50, 'argument2': '66'}, but they were not expected, and it has type <class 'dict'>\n",
      "I'm not sure what to do with args, and kwargs, but I can pass them to my super by using the askterisk method to pass them (tells the function call to the super that what is being passed are args and kwargs). Here we go: \n",
      "------------------------------------------------------------------------\n",
      " \n",
      "Looks like my sub function passed me some args and kwargs. And I don't have to call them that either. I can just call them whatever I want. So I think I'm going to call them 'my_args' and 'my_kwargs'. Let's print them out. Hopefullly they look the same as when my subfunction printed them out:\n",
      "Passed (40, 60, 30), but they were not expected, and it has type <class 'tuple'>\n",
      "Passed {'argument1': 50, 'argument2': '66'}, but they were not expected, and it has type <class 'dict'>\n"
     ]
    }
   ],
   "source": [
    "\"\"\"\n",
    "    You can pass variables to a function that are not explicitly\n",
    "    defined in the function declaration. Of the variables that are\n",
    "    passed to the function:\n",
    "    1. ARGS is used to capture all variable values that do not\n",
    "       have a variable assigned to them (they are captured in\n",
    "       a single tuple together without any relation)\n",
    "    2. KWARS is used to capture all variable values that DO have\n",
    "       a variable name attached to them via a keyword at the time\n",
    "       of function call (they are stored in a dictionary to preserve\n",
    "       the relationship between variable name and value).\n",
    "\"\"\"\n",
    "\n",
    "def some_super_function(*my_args, **my_kwargs):\n",
    "    print(\"Looks like my sub function passed me some args and kwargs. And I don't have \"\n",
    "          \"to call them that either. I can just call them whatever I want. So I think \"\n",
    "          \"I'm going to call them 'my_args' and 'my_kwargs'. Let's print them out. \"\n",
    "          \"Hopefullly they look the same as when my subfunction printed them out:\")\n",
    "    print(f\"Passed {my_args}, but they were not expected, and it has type {type(my_args)}\")\n",
    "    print(f\"Passed {my_kwargs}, but they were not expected, and it has type {type(my_kwargs)}\")\n",
    "\n",
    "def some_function(a, *args, **kwargs):\n",
    "    print(f\"Passed {a} to expected variable 'a', and it has type {type(a)}\")\n",
    "    print(f\"Passed {args}, but they were not expected, and it has type {type(args)}\")\n",
    "    print(f\"Passed {kwargs}, but they were not expected, and it has type {type(kwargs)}\")\n",
    "    print(\"I'm not sure what to do with args, and kwargs, but I can pass them to my \"\n",
    "          \"super by using the askterisk method to pass them (tells the function call \"\n",
    "          \"to the super that what is being passed are args and kwargs). Here we go: \"\n",
    "          \"\\n------------------------------------------------------------------------\\n \")\n",
    "\n",
    "    some_super_function(*args, **kwargs)\n",
    "\n",
    "some_function(10, 40, 60, 30, argument1=50, argument2='66')"
   ]
  }
 ],
 "metadata": {
  "kernelspec": {
   "display_name": ".venv",
   "language": "python",
   "name": "python3"
  },
  "language_info": {
   "codemirror_mode": {
    "name": "ipython",
    "version": 3
   },
   "file_extension": ".py",
   "mimetype": "text/x-python",
   "name": "python",
   "nbconvert_exporter": "python",
   "pygments_lexer": "ipython3",
   "version": "3.10.9"
  },
  "orig_nbformat": 4,
  "vscode": {
   "interpreter": {
    "hash": "b8e3e856dcf100dad073837e0c41e19b99b34c230164ce8e1e7e87d2d6dc8132"
   }
  }
 },
 "nbformat": 4,
 "nbformat_minor": 2
}
