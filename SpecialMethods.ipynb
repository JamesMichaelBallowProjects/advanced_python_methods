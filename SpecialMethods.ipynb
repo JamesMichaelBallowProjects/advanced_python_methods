{
 "cells": [
  {
   "cell_type": "code",
   "execution_count": 3,
   "metadata": {},
   "outputs": [
    {
     "name": "stdout",
     "output_type": "stream",
     "text": [
      "Ordinary __init__ was called for ABCD1234\n",
      "Class method was called\n",
      "Ordinary __init__ was called for DEF567\n",
      "Car has Vin: ABCD1234\n",
      "Var has brand: \n",
      "Car has Vin: DEF567\n",
      "Var has brand: NewBrand\n"
     ]
    }
   ],
   "source": [
    "\"\"\"\n",
    "    We can create different class constructors inside of a class if we\n",
    "    just include a class method and then basically call that class method\n",
    "    at the time of requesting the class to be instantiated as an object.\n",
    "\"\"\"\n",
    "class Car:\n",
    "    def __init__(self, vin):\n",
    "        print('Ordinary __init__ was called for', vin)\n",
    "        self.vin = vin\n",
    "        self.brand = ''\n",
    "\n",
    "    @classmethod\n",
    "    def including_brand(cls, vin, brand):\n",
    "        print('Class method was called')\n",
    "        _car = cls(vin)\n",
    "        _car.brand = brand\n",
    "        return _car\n",
    "\n",
    "    def __str__(self) -> str:\n",
    "        return f\"Car has Vin: {self.vin}\\nVar has brand: {self.brand}\"\n",
    "\n",
    "\n",
    "car1 = Car('ABCD1234')\n",
    "car2 = Car.including_brand('DEF567', 'NewBrand')\n",
    "\n",
    "print(car1)\n",
    "print(car2)\n"
   ]
  },
  {
   "cell_type": "code",
   "execution_count": 15,
   "metadata": {},
   "outputs": [
    {
     "name": "stdout",
     "output_type": "stream",
     "text": [
      "__init__ called\n",
      "False\n",
      "True\n"
     ]
    }
   ],
   "source": [
    "\"\"\" Saying something is a static method is to say that the method\n",
    "    that is going to exist inside the class is neither an instance\n",
    "    (self) or a class (cls) method and therefore does not have to\n",
    "    include 'self' or 'cls' inside of the definition. The method is\n",
    "    simply inside the class and can be used anywhere, even for things\n",
    "    outside of the class altogether.\n",
    "\"\"\"\n",
    "class Bank_Account:\n",
    "    def __init__(self, iban):\n",
    "        print('__init__ called')\n",
    "        self.iban = iban\n",
    "\n",
    "    @staticmethod\n",
    "    def validate(iban):\n",
    "        if len(iban) == 20:\n",
    "            return True\n",
    "        else:\n",
    "            return False\n",
    "\n",
    "ba = Bank_Account(iban='3')\n",
    "print(ba.validate(iban='3'))\n",
    "print(Bank_Account.validate(iban=([0] * 20)))"
   ]
  }
 ],
 "metadata": {
  "kernelspec": {
   "display_name": ".venv-adv-py-meth",
   "language": "python",
   "name": "python3"
  },
  "language_info": {
   "codemirror_mode": {
    "name": "ipython",
    "version": 3
   },
   "file_extension": ".py",
   "mimetype": "text/x-python",
   "name": "python",
   "nbconvert_exporter": "python",
   "pygments_lexer": "ipython3",
   "version": "3.7.8"
  },
  "orig_nbformat": 4
 },
 "nbformat": 4,
 "nbformat_minor": 2
}
